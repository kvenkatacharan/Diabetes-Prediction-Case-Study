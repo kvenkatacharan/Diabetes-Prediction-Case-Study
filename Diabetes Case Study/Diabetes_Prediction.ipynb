{
 "cells": [
  {
   "cell_type": "markdown",
   "metadata": {
    "colab_type": "text",
    "id": "2xyE1fyxAQHC"
   },
   "source": [
    "#**Demo: Machine Learning Approach Step By Step: Diabetes Prediction**\n",
    "\n",
    "##***Workflow:***\n",
    "\n",
    "\n",
    "> * Understanding the problem\n",
    "> * Collecting Data\n",
    "> * Wrangling, Cleansing, Analyzing and Preparing the data\n",
    "> * Creating a base model\n",
    ">> * Train Algorithm\n",
    ">> * Test Algorithm\n",
    "> * Re-analyzing the prepared data\n",
    ">* Improving the model\n",
    ">* Model Performance\n"
   ]
  },
  {
   "cell_type": "markdown",
   "metadata": {
    "colab_type": "text",
    "id": "6XwCzJT769sL"
   },
   "source": [
    "##**Understanding the Problem**\n",
    "\n",
    "\n"
   ]
  },
  {
   "cell_type": "markdown",
   "metadata": {
    "colab_type": "text",
    "id": "agF_XHrKDQso"
   },
   "source": [
    "###**Problem Definition**\n",
    "\n",
    "A healthcare company wants to check if the patient has diabetes or not based on some diagnostic measurements. \n",
    "\n",
    "You, as a data scientist, are given the task to build a Machine Learning model that is capable of predicting if a patient has diabetes.\n",
    " "
   ]
  },
  {
   "cell_type": "markdown",
   "metadata": {
    "colab_type": "text",
    "id": "0aZQ9KTC42Bk"
   },
   "source": [
    "###**Dataset Description**\n",
    "\n",
    "> **DATASET:** *Pima Indians Diabetes.csv*\n",
    "\n",
    "\n",
    "The dataset was collected and made available by “National Institute of Diabetes and Digestive and Kidney Diseases” as part of the Pima Indians Diabetes Database. Several constraints were placed on the selection of these instances from a larger database. In particular, all patients here belong to the Pima Indian heritage (a subgroup of Native Americans) and are females of ages 21 and above.\n",
    "\n",
    "\n",
    "The dataset consists of several medical predictor variables and one target variable, Outcome. Predictor variables include the number of pregnancies the patient has had, their BMI, insulin level, age, and so on.\n",
    "\n",
    "**NOTE:** You can use this dataset to train your machine learning model to predict whether the patient has diabetes or not."
   ]
  },
  {
   "cell_type": "markdown",
   "metadata": {
    "colab_type": "text",
    "id": "Po-aYeFIgr8d"
   },
   "source": [
    "###**Objective**\n",
    "\n",
    ">* **Classify:** We want to predict if a patient is diabetic or not.\n",
    ">* **Collecting the data**\n",
    ">* **Analyzing and Preparing the data:** We may need to convert the categorical values to numerical values. If the dataset contains null values, we will have to fill those values or remove those samples/features, depending upon the number of null values. We will need to fix the outlier values. Scaling of the data has to be done if needed.\n",
    ">* **Visualizing the data:** Proper plots and graphs will be used for visualization.\n",
    ">* **Splitting the dataset for evaluation:** Since we want to know how good our model is, we will split the main dataset into training and testing datasets. The test data will be used later for evaluating.\n",
    ">* **Training the model:** We will create the model by training the algorithm on the training dataset(which contains the actual labels).\n",
    ">* **Testing the model:**  We will test the model on the test dataset to check how good our model works when it sees a new sample.\n",
    ">* **Choosing the correct model:** We will use different machine learning algorithms to check which one works well for this problem.\n",
    ">* **Model Performance:** We will calculate our model's performance, by comparing our predicted values with actual values. \n"
   ]
  },
  {
   "cell_type": "markdown",
   "metadata": {
    "colab_type": "text",
    "id": "FoILIoAOeObv"
   },
   "source": [
    "###Importing the libraries\n"
   ]
  },
  {
   "cell_type": "code",
   "execution_count": null,
   "metadata": {
    "colab": {},
    "colab_type": "code",
    "id": "tSwQX0MZezjr"
   },
   "outputs": [],
   "source": [
    "#data analysis\n",
    "import pandas as pd\n",
    "import numpy as np\n",
    "\n",
    "\n",
    "#machine learning\n",
    "from sklearn.preprocessing import LabelEncoder\n",
    "from sklearn.preprocessing import StandardScaler\n",
    "from sklearn.model_selection import train_test_split\n",
    "from sklearn.model_selection import KFold,cross_val_score\n",
    "#machine learning algorithms\n",
    "from sklearn.linear_model import LogisticRegression\n",
    "from sklearn.tree import DecisionTreeClassifier\n",
    "from sklearn.svm import SVC\n",
    "from sklearn.neighbors import KNeighborsClassifier\n",
    "from sklearn.naive_bayes import GaussianNB\n",
    "from sklearn.ensemble import RandomForestClassifier\n",
    "#metrics\n",
    "from sklearn.metrics import confusion_matrix\n",
    "\n",
    "\n",
    "\n",
    "# Visualization\n",
    "import matplotlib.pyplot as plt\n",
    "%matplotlib inline\n",
    "import seaborn as sns\n",
    "\n"
   ]
  },
  {
   "cell_type": "code",
   "execution_count": null,
   "metadata": {
    "colab": {},
    "colab_type": "code",
    "id": "6sht-9PNnUR5"
   },
   "outputs": [],
   "source": [
    "import warnings\n",
    "warnings.filterwarnings(\"ignore\")"
   ]
  },
  {
   "cell_type": "markdown",
   "metadata": {
    "colab_type": "text",
    "id": "UWi_kCmIe_JG"
   },
   "source": [
    "### **Collecting the Dataset**"
   ]
  },
  {
   "cell_type": "code",
   "execution_count": null,
   "metadata": {
    "colab": {
     "base_uri": "https://localhost:8080/",
     "height": 204
    },
    "colab_type": "code",
    "id": "pQuIXAntgOgJ",
    "outputId": "bf57c322-741a-4a4d-f37c-f9ecae11e05b"
   },
   "outputs": [
    {
     "data": {
      "text/html": [
       "<div>\n",
       "<style scoped>\n",
       "    .dataframe tbody tr th:only-of-type {\n",
       "        vertical-align: middle;\n",
       "    }\n",
       "\n",
       "    .dataframe tbody tr th {\n",
       "        vertical-align: top;\n",
       "    }\n",
       "\n",
       "    .dataframe thead th {\n",
       "        text-align: right;\n",
       "    }\n",
       "</style>\n",
       "<table border=\"1\" class=\"dataframe\">\n",
       "  <thead>\n",
       "    <tr style=\"text-align: right;\">\n",
       "      <th></th>\n",
       "      <th>Pregnancies</th>\n",
       "      <th>Glucose</th>\n",
       "      <th>BloodPressure</th>\n",
       "      <th>SkinThickness</th>\n",
       "      <th>Insulin</th>\n",
       "      <th>BMI</th>\n",
       "      <th>DiabetesPedigreeFunction</th>\n",
       "      <th>Age</th>\n",
       "      <th>Outcome</th>\n",
       "    </tr>\n",
       "  </thead>\n",
       "  <tbody>\n",
       "    <tr>\n",
       "      <th>0</th>\n",
       "      <td>1</td>\n",
       "      <td>85</td>\n",
       "      <td>66</td>\n",
       "      <td>29</td>\n",
       "      <td>0</td>\n",
       "      <td>26.6</td>\n",
       "      <td>0.351</td>\n",
       "      <td>31</td>\n",
       "      <td>No</td>\n",
       "    </tr>\n",
       "    <tr>\n",
       "      <th>1</th>\n",
       "      <td>8</td>\n",
       "      <td>183</td>\n",
       "      <td>64</td>\n",
       "      <td>0</td>\n",
       "      <td>0</td>\n",
       "      <td>23.3</td>\n",
       "      <td>0.672</td>\n",
       "      <td>32</td>\n",
       "      <td>Yes</td>\n",
       "    </tr>\n",
       "    <tr>\n",
       "      <th>2</th>\n",
       "      <td>1</td>\n",
       "      <td>89</td>\n",
       "      <td>66</td>\n",
       "      <td>23</td>\n",
       "      <td>94</td>\n",
       "      <td>28.1</td>\n",
       "      <td>0.167</td>\n",
       "      <td>21</td>\n",
       "      <td>No</td>\n",
       "    </tr>\n",
       "    <tr>\n",
       "      <th>3</th>\n",
       "      <td>0</td>\n",
       "      <td>137</td>\n",
       "      <td>40</td>\n",
       "      <td>35</td>\n",
       "      <td>168</td>\n",
       "      <td>43.1</td>\n",
       "      <td>2.288</td>\n",
       "      <td>33</td>\n",
       "      <td>Yes</td>\n",
       "    </tr>\n",
       "    <tr>\n",
       "      <th>4</th>\n",
       "      <td>5</td>\n",
       "      <td>116</td>\n",
       "      <td>74</td>\n",
       "      <td>0</td>\n",
       "      <td>0</td>\n",
       "      <td>25.6</td>\n",
       "      <td>0.201</td>\n",
       "      <td>30</td>\n",
       "      <td>No</td>\n",
       "    </tr>\n",
       "  </tbody>\n",
       "</table>\n",
       "</div>"
      ],
      "text/plain": [
       "   Pregnancies  Glucose  BloodPressure  ...  DiabetesPedigreeFunction  Age  Outcome\n",
       "0            1       85             66  ...                     0.351   31       No\n",
       "1            8      183             64  ...                     0.672   32      Yes\n",
       "2            1       89             66  ...                     0.167   21       No\n",
       "3            0      137             40  ...                     2.288   33      Yes\n",
       "4            5      116             74  ...                     0.201   30       No\n",
       "\n",
       "[5 rows x 9 columns]"
      ]
     },
     "execution_count": 3,
     "metadata": {
      "tags": []
     },
     "output_type": "execute_result"
    }
   ],
   "source": [
    "data=pd.read_csv(\"/content/diabetes.csv\",index_col=False)\n",
    "data.head()"
   ]
  },
  {
   "cell_type": "markdown",
   "metadata": {
    "colab_type": "text",
    "id": "o4FgDSPwuI6N"
   },
   "source": [
    "##**Analyzing and Preparing the data**\n",
    "\n",
    "\n"
   ]
  },
  {
   "cell_type": "code",
   "execution_count": null,
   "metadata": {
    "colab": {
     "base_uri": "https://localhost:8080/",
     "height": 34
    },
    "colab_type": "code",
    "id": "T7usNWBFnNhe",
    "outputId": "20096c3c-fcb6-4a06-f2c5-5a5c63b4d7c4"
   },
   "outputs": [
    {
     "name": "stdout",
     "output_type": "stream",
     "text": [
      "(767, 9)\n"
     ]
    }
   ],
   "source": [
    "print(data.shape) # Checking the number of rows and columns in the dataframe"
   ]
  },
  {
   "cell_type": "code",
   "execution_count": null,
   "metadata": {
    "colab": {
     "base_uri": "https://localhost:8080/",
     "height": 51
    },
    "colab_type": "code",
    "id": "93gkLAnU9wDh",
    "outputId": "08c90cd0-96c0-4eb0-d642-b6afe6f93959"
   },
   "outputs": [
    {
     "name": "stdout",
     "output_type": "stream",
     "text": [
      "['Pregnancies' 'Glucose' 'BloodPressure' 'SkinThickness' 'Insulin' 'BMI'\n",
      " 'DiabetesPedigreeFunction' 'Age' 'Outcome']\n"
     ]
    }
   ],
   "source": [
    "print(data.columns.values) # Checking different features/attributes present in the dataset"
   ]
  },
  {
   "cell_type": "code",
   "execution_count": null,
   "metadata": {
    "colab": {
     "base_uri": "https://localhost:8080/",
     "height": 34
    },
    "colab_type": "code",
    "id": "mSk3Ot9k9zsS",
    "outputId": "278ab1fd-e393-4a80-f9dc-bbe3e5c49395"
   },
   "outputs": [
    {
     "name": "stdout",
     "output_type": "stream",
     "text": [
      "['No' 'Yes']\n"
     ]
    }
   ],
   "source": [
    "print(data['Outcome'].unique()) # Checking unique values in the column 'Outcome'"
   ]
  },
  {
   "cell_type": "code",
   "execution_count": null,
   "metadata": {
    "colab": {
     "base_uri": "https://localhost:8080/",
     "height": 187
    },
    "colab_type": "code",
    "id": "9wdqGiIGWd-g",
    "outputId": "70b52a31-907c-4fe0-f5bb-6c3f3855a7f1"
   },
   "outputs": [
    {
     "name": "stdout",
     "output_type": "stream",
     "text": [
      "Pregnancies                   int64\n",
      "Glucose                       int64\n",
      "BloodPressure                 int64\n",
      "SkinThickness                 int64\n",
      "Insulin                       int64\n",
      "BMI                         float64\n",
      "DiabetesPedigreeFunction    float64\n",
      "Age                           int64\n",
      "Outcome                      object\n",
      "dtype: object\n"
     ]
    }
   ],
   "source": [
    "print(data.dtypes)"
   ]
  },
  {
   "cell_type": "markdown",
   "metadata": {
    "colab_type": "text",
    "id": "1YXSCv3xSs0o"
   },
   "source": [
    "*  Our dataset is having 767 instances and 9 features.\n",
    "*   Features available in the dataset\n",
    "*   Categorical features: Outcome(with 2 unique values as Yes and No)\n",
    "*   Numerical features: Pregnancies, Glucose, BloodPressure, SkinThickness,  Insulin, BMI,\tDiabetesPedigreeFunction,\tAge, Outcome\n",
    "\n",
    "**Note:**  We need to convert categorical data to numerical values as we can't train our model on categorical values. "
   ]
  },
  {
   "cell_type": "code",
   "execution_count": null,
   "metadata": {
    "colab": {
     "base_uri": "https://localhost:8080/",
     "height": 187
    },
    "colab_type": "code",
    "id": "t6C1g7nL93u9",
    "outputId": "7aa404dc-65b3-4e27-9891-04d9c4c59d68"
   },
   "outputs": [
    {
     "name": "stdout",
     "output_type": "stream",
     "text": [
      "Pregnancies                 0\n",
      "Glucose                     0\n",
      "BloodPressure               0\n",
      "SkinThickness               0\n",
      "Insulin                     0\n",
      "BMI                         0\n",
      "DiabetesPedigreeFunction    0\n",
      "Age                         0\n",
      "Outcome                     0\n",
      "dtype: int64\n"
     ]
    }
   ],
   "source": [
    "print(data.isnull().sum()) # Checking the null values in all the columns"
   ]
  },
  {
   "cell_type": "markdown",
   "metadata": {
    "colab_type": "text",
    "id": "QSxEij_l2LWh"
   },
   "source": [
    "<div style=\"text-align: justify\"> None of the features contain null values, so let us do some more data analysis.</div>"
   ]
  },
  {
   "cell_type": "code",
   "execution_count": null,
   "metadata": {
    "colab": {
     "base_uri": "https://localhost:8080/",
     "height": 607
    },
    "colab_type": "code",
    "id": "GQ7XQ_YLY3YZ",
    "outputId": "382eda66-7376-4604-8559-16742ebec2f6"
   },
   "outputs": [
    {
     "data": {
      "image/png": "[encoded data removed]",
      "text/plain": [
       "<Figure size 720x720 with 9 Axes>"
      ]
     },
     "metadata": {
      "tags": []
     },
     "output_type": "display_data"
    }
   ],
   "source": [
    "data.hist(figsize=(10,10))\n",
    "plt.show()"
   ]
  },
  {
   "cell_type": "markdown",
   "metadata": {
    "colab_type": "text",
    "id": "6JzgKqEoTLd1"
   },
   "source": [
    "Some features seems to have wrong values(0), which can be seen from the histogram plots. Number of Pregnancies can be 0 but other features like Glucose, Blood pressure, Skin Thiness, Insulin and BMI can't be 0."
   ]
  },
  {
   "cell_type": "code",
   "execution_count": null,
   "metadata": {
    "colab": {
     "base_uri": "https://localhost:8080/",
     "height": 187
    },
    "colab_type": "code",
    "id": "E9Wzb9tKupsb",
    "outputId": "503483a6-840e-4684-a683-fd5ee8201f27"
   },
   "outputs": [
    {
     "name": "stdout",
     "output_type": "stream",
     "text": [
      "Pregnancies                 111\n",
      "Glucose                       5\n",
      "BloodPressure                35\n",
      "SkinThickness               227\n",
      "Insulin                     373\n",
      "BMI                          11\n",
      "DiabetesPedigreeFunction      0\n",
      "Age                           0\n",
      "Outcome                       0\n",
      "dtype: int64\n"
     ]
    }
   ],
   "source": [
    "print(data.eq(0).sum()) # Finding the number of '0'values in each column"
   ]
  },
  {
   "cell_type": "markdown",
   "metadata": {
    "colab_type": "text",
    "id": "1ssaTouVWQ0b"
   },
   "source": [
    "We can use the features' median values to replace with zeroes. But in the case of insulin there are too many null values, so it would be better to drop that feature."
   ]
  },
  {
   "cell_type": "code",
   "execution_count": null,
   "metadata": {
    "colab": {},
    "colab_type": "code",
    "id": "NgNE7Vo50wBJ"
   },
   "outputs": [],
   "source": [
    "data['Glucose'].replace(to_replace=0,value=data['Glucose'].median(),inplace=True)\n",
    "data['BloodPressure'].replace(to_replace=0,value=data['BloodPressure'].median(),inplace=True)\n",
    "data['SkinThickness'].replace(to_replace=0,value=data['SkinThickness'].median(),inplace=True)\n",
    "data['BMI'].replace(to_replace=0,value=data['BMI'].median(),inplace=True)\n",
    "data.drop(['Insulin'],axis=1,inplace=True)"
   ]
  },
  {
   "cell_type": "code",
   "execution_count": null,
   "metadata": {
    "colab": {
     "base_uri": "https://localhost:8080/",
     "height": 607
    },
    "colab_type": "code",
    "id": "L-IO3-8J44OE",
    "outputId": "67e3de8e-2a9e-46c8-d3c9-95db2e06225a"
   },
   "outputs": [
    {
     "data": {
      "image/png": "[encoded data removed]",
      "text/plain": [
       "<Figure size 720x720 with 9 Axes>"
      ]
     },
     "metadata": {
      "tags": []
     },
     "output_type": "display_data"
    }
   ],
   "source": [
    "data.hist(figsize=(10,10))\n",
    "plt.show()"
   ]
  },
  {
   "cell_type": "markdown",
   "metadata": {
    "colab_type": "text",
    "id": "jGyhydno88D2"
   },
   "source": [
    "Now we can see none of the features contain 0 value except Pregnancies"
   ]
  },
  {
   "cell_type": "markdown",
   "metadata": {
    "colab_type": "text",
    "id": "5I6cBZjKX145"
   },
   "source": [
    "##Let us look at the spread of the data."
   ]
  },
  {
   "cell_type": "code",
   "execution_count": null,
   "metadata": {
    "colab": {
     "base_uri": "https://localhost:8080/",
     "height": 297
    },
    "colab_type": "code",
    "id": "II11ExFYlRSn",
    "outputId": "5e2dc66e-ee46-48c0-ee9c-74dc77cf8697"
   },
   "outputs": [
    {
     "data": {
      "text/html": [
       "<div>\n",
       "<style scoped>\n",
       "    .dataframe tbody tr th:only-of-type {\n",
       "        vertical-align: middle;\n",
       "    }\n",
       "\n",
       "    .dataframe tbody tr th {\n",
       "        vertical-align: top;\n",
       "    }\n",
       "\n",
       "    .dataframe thead th {\n",
       "        text-align: right;\n",
       "    }\n",
       "</style>\n",
       "<table border=\"1\" class=\"dataframe\">\n",
       "  <thead>\n",
       "    <tr style=\"text-align: right;\">\n",
       "      <th></th>\n",
       "      <th>Pregnancies</th>\n",
       "      <th>Glucose</th>\n",
       "      <th>BloodPressure</th>\n",
       "      <th>SkinThickness</th>\n",
       "      <th>BMI</th>\n",
       "      <th>DiabetesPedigreeFunction</th>\n",
       "      <th>Age</th>\n",
       "    </tr>\n",
       "  </thead>\n",
       "  <tbody>\n",
       "    <tr>\n",
       "      <th>count</th>\n",
       "      <td>767.000000</td>\n",
       "      <td>767.000000</td>\n",
       "      <td>767.000000</td>\n",
       "      <td>767.000000</td>\n",
       "      <td>767.000000</td>\n",
       "      <td>767.000000</td>\n",
       "      <td>767.000000</td>\n",
       "    </tr>\n",
       "    <tr>\n",
       "      <th>mean</th>\n",
       "      <td>3.842243</td>\n",
       "      <td>121.621904</td>\n",
       "      <td>72.387223</td>\n",
       "      <td>27.324641</td>\n",
       "      <td>32.449413</td>\n",
       "      <td>0.471674</td>\n",
       "      <td>33.219035</td>\n",
       "    </tr>\n",
       "    <tr>\n",
       "      <th>std</th>\n",
       "      <td>3.370877</td>\n",
       "      <td>30.443252</td>\n",
       "      <td>12.104527</td>\n",
       "      <td>9.230877</td>\n",
       "      <td>6.879727</td>\n",
       "      <td>0.331497</td>\n",
       "      <td>11.752296</td>\n",
       "    </tr>\n",
       "    <tr>\n",
       "      <th>min</th>\n",
       "      <td>0.000000</td>\n",
       "      <td>44.000000</td>\n",
       "      <td>24.000000</td>\n",
       "      <td>7.000000</td>\n",
       "      <td>18.200000</td>\n",
       "      <td>0.078000</td>\n",
       "      <td>21.000000</td>\n",
       "    </tr>\n",
       "    <tr>\n",
       "      <th>25%</th>\n",
       "      <td>1.000000</td>\n",
       "      <td>99.500000</td>\n",
       "      <td>64.000000</td>\n",
       "      <td>23.000000</td>\n",
       "      <td>27.500000</td>\n",
       "      <td>0.243500</td>\n",
       "      <td>24.000000</td>\n",
       "    </tr>\n",
       "    <tr>\n",
       "      <th>50%</th>\n",
       "      <td>3.000000</td>\n",
       "      <td>117.000000</td>\n",
       "      <td>72.000000</td>\n",
       "      <td>23.000000</td>\n",
       "      <td>32.000000</td>\n",
       "      <td>0.371000</td>\n",
       "      <td>29.000000</td>\n",
       "    </tr>\n",
       "    <tr>\n",
       "      <th>75%</th>\n",
       "      <td>6.000000</td>\n",
       "      <td>140.000000</td>\n",
       "      <td>80.000000</td>\n",
       "      <td>32.000000</td>\n",
       "      <td>36.600000</td>\n",
       "      <td>0.625000</td>\n",
       "      <td>41.000000</td>\n",
       "    </tr>\n",
       "    <tr>\n",
       "      <th>max</th>\n",
       "      <td>17.000000</td>\n",
       "      <td>199.000000</td>\n",
       "      <td>122.000000</td>\n",
       "      <td>99.000000</td>\n",
       "      <td>67.100000</td>\n",
       "      <td>2.420000</td>\n",
       "      <td>81.000000</td>\n",
       "    </tr>\n",
       "  </tbody>\n",
       "</table>\n",
       "</div>"
      ],
      "text/plain": [
       "       Pregnancies     Glucose  ...  DiabetesPedigreeFunction         Age\n",
       "count   767.000000  767.000000  ...                767.000000  767.000000\n",
       "mean      3.842243  121.621904  ...                  0.471674   33.219035\n",
       "std       3.370877   30.443252  ...                  0.331497   11.752296\n",
       "min       0.000000   44.000000  ...                  0.078000   21.000000\n",
       "25%       1.000000   99.500000  ...                  0.243500   24.000000\n",
       "50%       3.000000  117.000000  ...                  0.371000   29.000000\n",
       "75%       6.000000  140.000000  ...                  0.625000   41.000000\n",
       "max      17.000000  199.000000  ...                  2.420000   81.000000\n",
       "\n",
       "[8 rows x 7 columns]"
      ]
     },
     "execution_count": 13,
     "metadata": {
      "tags": []
     },
     "output_type": "execute_result"
    }
   ],
   "source": [
    "data.describe()"
   ]
  },
  {
   "cell_type": "markdown",
   "metadata": {
    "colab_type": "text",
    "id": "HaZ5TVI2l76M"
   },
   "source": [
    "It seems some features are having outlier values, like no. of pregnancies is going as high as 17 where as the median('50%') is 3 and maximum age is 81 as compared to median 29.These high values might be outliers.\n",
    "\n",
    "**Outliers** are extreme values, which can affect our model, so we need to remove them."
   ]
  },
  {
   "cell_type": "markdown",
   "metadata": {
    "colab_type": "text",
    "id": "gwB1lET0DA90"
   },
   "source": [
    "Let us visualise the data using box plot. It will give us an idea of the spread of data and the outliers. "
   ]
  },
  {
   "cell_type": "code",
   "execution_count": null,
   "metadata": {
    "colab": {
     "base_uri": "https://localhost:8080/",
     "height": 863
    },
    "colab_type": "code",
    "id": "QnJoHQiHDARj",
    "outputId": "543c7b04-c244-4167-808f-83de70b7d679"
   },
   "outputs": [
    {
     "data": {
      "image/png": "[encoded data removed]",
      "text/plain": [
       "<Figure size 720x1080 with 1 Axes>"
      ]
     },
     "metadata": {
      "tags": []
     },
     "output_type": "display_data"
    }
   ],
   "source": [
    "data.boxplot(figsize=(10,15))\n",
    "plt.show()"
   ]
  },
  {
   "cell_type": "markdown",
   "metadata": {
    "colab_type": "text",
    "id": "65nHD05AYN75"
   },
   "source": [
    "We can see Pregnancies, BloodPressure, SkinThickness, BMI and Age are having several outliers."
   ]
  },
  {
   "cell_type": "markdown",
   "metadata": {
    "colab_type": "text",
    "id": "LyghAQ2OLN8-"
   },
   "source": [
    "### Normal Distribution Curve - Before Removing Outliers\n",
    "\n"
   ]
  },
  {
   "cell_type": "code",
   "execution_count": null,
   "metadata": {
    "colab": {
     "base_uri": "https://localhost:8080/",
     "height": 296
    },
    "colab_type": "code",
    "id": "QZ34xMM_PIPE",
    "outputId": "232d4960-6f23-4c95-e21b-dce13c320218"
   },
   "outputs": [
    {
     "data": {
      "text/plain": [
       "<matplotlib.axes._subplots.AxesSubplot at 0x7f176d1139e8>"
      ]
     },
     "execution_count": 15,
     "metadata": {
      "tags": []
     },
     "output_type": "execute_result"
    },
    {
     "data": {
      "image/png": "[encoded data removed]",
      "text/plain": [
       "<Figure size 432x288 with 1 Axes>"
      ]
     },
     "metadata": {
      "tags": []
     },
     "output_type": "display_data"
    }
   ],
   "source": [
    "sns.distplot(data['Age'], hist=True, kde=True, color = 'darkblue')"
   ]
  },
  {
   "cell_type": "markdown",
   "metadata": {
    "colab_type": "text",
    "id": "lalQKGbBSbUc"
   },
   "source": [
    "From the above plot we can see there are very less number of samples having age 70 to 80. They seem to be outlier values."
   ]
  },
  {
   "cell_type": "code",
   "execution_count": null,
   "metadata": {
    "colab": {},
    "colab_type": "code",
    "id": "Mpc2n_PCDV-g"
   },
   "outputs": [],
   "source": [
    "for col in ['Pregnancies','BloodPressure','SkinThickness', 'BMI','Age']:\n",
    "    percentiles = data[col].quantile([0.01,0.99]).values #Filtering 1%(0-1), 1%(99-100) extreme outlier data\n",
    "    data[col] = np.clip(data[col], percentiles[0], percentiles[1])"
   ]
  },
  {
   "cell_type": "markdown",
   "metadata": {
    "colab_type": "text",
    "id": "-SFmVwmwYVWr"
   },
   "source": [
    "The outliers have been clipped using the numpy's clip function.Now our data contains the values which are in percentile range of 1 to 99"
   ]
  },
  {
   "cell_type": "markdown",
   "metadata": {
    "colab_type": "text",
    "id": "l_DnyqZuS4_O"
   },
   "source": [
    "###Normal distribution curve after removing outlier"
   ]
  },
  {
   "cell_type": "code",
   "execution_count": null,
   "metadata": {
    "colab": {
     "base_uri": "https://localhost:8080/",
     "height": 296
    },
    "colab_type": "code",
    "id": "oJVVA4I5Rxj1",
    "outputId": "e39b8109-00bd-4b99-ed20-d78c71792cea"
   },
   "outputs": [
    {
     "data": {
      "text/plain": [
       "<matplotlib.axes._subplots.AxesSubplot at 0x7f176d24a710>"
      ]
     },
     "execution_count": 17,
     "metadata": {
      "tags": []
     },
     "output_type": "execute_result"
    },
    {
     "data": {
      "image/png": "[encoded data removed]",
      "text/plain": [
       "<Figure size 432x288 with 1 Axes>"
      ]
     },
     "metadata": {
      "tags": []
     },
     "output_type": "display_data"
    }
   ],
   "source": [
    "sns.distplot(data['Age'], hist=True, kde=True, color = 'darkblue')"
   ]
  },
  {
   "cell_type": "markdown",
   "metadata": {
    "colab_type": "text",
    "id": "JwUNl4EWTXvm"
   },
   "source": [
    "In the above plot we can see the outliers are capped with 1 to 99 percentile values."
   ]
  },
  {
   "cell_type": "code",
   "execution_count": null,
   "metadata": {
    "colab": {
     "base_uri": "https://localhost:8080/",
     "height": 297
    },
    "colab_type": "code",
    "id": "xv8CnGWKoNmN",
    "outputId": "d2a65834-756e-46e5-8651-8613930e4fbc"
   },
   "outputs": [
    {
     "data": {
      "text/html": [
       "<div>\n",
       "<style scoped>\n",
       "    .dataframe tbody tr th:only-of-type {\n",
       "        vertical-align: middle;\n",
       "    }\n",
       "\n",
       "    .dataframe tbody tr th {\n",
       "        vertical-align: top;\n",
       "    }\n",
       "\n",
       "    .dataframe thead th {\n",
       "        text-align: right;\n",
       "    }\n",
       "</style>\n",
       "<table border=\"1\" class=\"dataframe\">\n",
       "  <thead>\n",
       "    <tr style=\"text-align: right;\">\n",
       "      <th></th>\n",
       "      <th>Pregnancies</th>\n",
       "      <th>Glucose</th>\n",
       "      <th>BloodPressure</th>\n",
       "      <th>SkinThickness</th>\n",
       "      <th>BMI</th>\n",
       "      <th>DiabetesPedigreeFunction</th>\n",
       "      <th>Age</th>\n",
       "    </tr>\n",
       "  </thead>\n",
       "  <tbody>\n",
       "    <tr>\n",
       "      <th>count</th>\n",
       "      <td>767.000000</td>\n",
       "      <td>767.000000</td>\n",
       "      <td>767.000000</td>\n",
       "      <td>767.000000</td>\n",
       "      <td>767.000000</td>\n",
       "      <td>767.000000</td>\n",
       "      <td>767.000000</td>\n",
       "    </tr>\n",
       "    <tr>\n",
       "      <th>mean</th>\n",
       "      <td>3.831812</td>\n",
       "      <td>121.621904</td>\n",
       "      <td>72.410691</td>\n",
       "      <td>27.234316</td>\n",
       "      <td>32.400464</td>\n",
       "      <td>0.471674</td>\n",
       "      <td>33.183833</td>\n",
       "    </tr>\n",
       "    <tr>\n",
       "      <th>std</th>\n",
       "      <td>3.338067</td>\n",
       "      <td>30.443252</td>\n",
       "      <td>11.709697</td>\n",
       "      <td>8.743843</td>\n",
       "      <td>6.671910</td>\n",
       "      <td>0.331497</td>\n",
       "      <td>11.637086</td>\n",
       "    </tr>\n",
       "    <tr>\n",
       "      <th>min</th>\n",
       "      <td>0.000000</td>\n",
       "      <td>44.000000</td>\n",
       "      <td>44.000000</td>\n",
       "      <td>10.000000</td>\n",
       "      <td>19.500000</td>\n",
       "      <td>0.078000</td>\n",
       "      <td>21.000000</td>\n",
       "    </tr>\n",
       "    <tr>\n",
       "      <th>25%</th>\n",
       "      <td>1.000000</td>\n",
       "      <td>99.500000</td>\n",
       "      <td>64.000000</td>\n",
       "      <td>23.000000</td>\n",
       "      <td>27.500000</td>\n",
       "      <td>0.243500</td>\n",
       "      <td>24.000000</td>\n",
       "    </tr>\n",
       "    <tr>\n",
       "      <th>50%</th>\n",
       "      <td>3.000000</td>\n",
       "      <td>117.000000</td>\n",
       "      <td>72.000000</td>\n",
       "      <td>23.000000</td>\n",
       "      <td>32.000000</td>\n",
       "      <td>0.371000</td>\n",
       "      <td>29.000000</td>\n",
       "    </tr>\n",
       "    <tr>\n",
       "      <th>75%</th>\n",
       "      <td>6.000000</td>\n",
       "      <td>140.000000</td>\n",
       "      <td>80.000000</td>\n",
       "      <td>32.000000</td>\n",
       "      <td>36.600000</td>\n",
       "      <td>0.625000</td>\n",
       "      <td>41.000000</td>\n",
       "    </tr>\n",
       "    <tr>\n",
       "      <th>max</th>\n",
       "      <td>13.000000</td>\n",
       "      <td>199.000000</td>\n",
       "      <td>106.000000</td>\n",
       "      <td>51.340000</td>\n",
       "      <td>50.782000</td>\n",
       "      <td>2.420000</td>\n",
       "      <td>67.000000</td>\n",
       "    </tr>\n",
       "  </tbody>\n",
       "</table>\n",
       "</div>"
      ],
      "text/plain": [
       "       Pregnancies     Glucose  ...  DiabetesPedigreeFunction         Age\n",
       "count   767.000000  767.000000  ...                767.000000  767.000000\n",
       "mean      3.831812  121.621904  ...                  0.471674   33.183833\n",
       "std       3.338067   30.443252  ...                  0.331497   11.637086\n",
       "min       0.000000   44.000000  ...                  0.078000   21.000000\n",
       "25%       1.000000   99.500000  ...                  0.243500   24.000000\n",
       "50%       3.000000  117.000000  ...                  0.371000   29.000000\n",
       "75%       6.000000  140.000000  ...                  0.625000   41.000000\n",
       "max      13.000000  199.000000  ...                  2.420000   67.000000\n",
       "\n",
       "[8 rows x 7 columns]"
      ]
     },
     "execution_count": 18,
     "metadata": {
      "tags": []
     },
     "output_type": "execute_result"
    }
   ],
   "source": [
    "data.describe()"
   ]
  },
  {
   "cell_type": "markdown",
   "metadata": {
    "colab_type": "text",
    "id": "LrNyOJFu97tV"
   },
   "source": [
    "###Convert Categorical feature to Numerical values\n",
    "\n",
    "We will use Label Encoding for this purpose, Label Encoding encodes the label with values 0 to (no_of_classes-1).\n",
    "\n"
   ]
  },
  {
   "cell_type": "code",
   "execution_count": null,
   "metadata": {
    "colab": {},
    "colab_type": "code",
    "id": "BKg0f1IA961l"
   },
   "outputs": [],
   "source": [
    "le=LabelEncoder()\n",
    "data['Outcome']=le.fit_transform(data['Outcome'])"
   ]
  },
  {
   "cell_type": "code",
   "execution_count": null,
   "metadata": {
    "colab": {
     "base_uri": "https://localhost:8080/",
     "height": 204
    },
    "colab_type": "code",
    "id": "y3Wpd1lICHlI",
    "outputId": "2499f7fb-9f46-406c-a547-8a2df66c7d88"
   },
   "outputs": [
    {
     "data": {
      "text/html": [
       "<div>\n",
       "<style scoped>\n",
       "    .dataframe tbody tr th:only-of-type {\n",
       "        vertical-align: middle;\n",
       "    }\n",
       "\n",
       "    .dataframe tbody tr th {\n",
       "        vertical-align: top;\n",
       "    }\n",
       "\n",
       "    .dataframe thead th {\n",
       "        text-align: right;\n",
       "    }\n",
       "</style>\n",
       "<table border=\"1\" class=\"dataframe\">\n",
       "  <thead>\n",
       "    <tr style=\"text-align: right;\">\n",
       "      <th></th>\n",
       "      <th>Pregnancies</th>\n",
       "      <th>Glucose</th>\n",
       "      <th>BloodPressure</th>\n",
       "      <th>SkinThickness</th>\n",
       "      <th>BMI</th>\n",
       "      <th>DiabetesPedigreeFunction</th>\n",
       "      <th>Age</th>\n",
       "      <th>Outcome</th>\n",
       "    </tr>\n",
       "  </thead>\n",
       "  <tbody>\n",
       "    <tr>\n",
       "      <th>0</th>\n",
       "      <td>1</td>\n",
       "      <td>85</td>\n",
       "      <td>66</td>\n",
       "      <td>29.0</td>\n",
       "      <td>26.6</td>\n",
       "      <td>0.351</td>\n",
       "      <td>31</td>\n",
       "      <td>0</td>\n",
       "    </tr>\n",
       "    <tr>\n",
       "      <th>1</th>\n",
       "      <td>8</td>\n",
       "      <td>183</td>\n",
       "      <td>64</td>\n",
       "      <td>23.0</td>\n",
       "      <td>23.3</td>\n",
       "      <td>0.672</td>\n",
       "      <td>32</td>\n",
       "      <td>1</td>\n",
       "    </tr>\n",
       "    <tr>\n",
       "      <th>2</th>\n",
       "      <td>1</td>\n",
       "      <td>89</td>\n",
       "      <td>66</td>\n",
       "      <td>23.0</td>\n",
       "      <td>28.1</td>\n",
       "      <td>0.167</td>\n",
       "      <td>21</td>\n",
       "      <td>0</td>\n",
       "    </tr>\n",
       "    <tr>\n",
       "      <th>3</th>\n",
       "      <td>0</td>\n",
       "      <td>137</td>\n",
       "      <td>44</td>\n",
       "      <td>35.0</td>\n",
       "      <td>43.1</td>\n",
       "      <td>2.288</td>\n",
       "      <td>33</td>\n",
       "      <td>1</td>\n",
       "    </tr>\n",
       "    <tr>\n",
       "      <th>4</th>\n",
       "      <td>5</td>\n",
       "      <td>116</td>\n",
       "      <td>74</td>\n",
       "      <td>23.0</td>\n",
       "      <td>25.6</td>\n",
       "      <td>0.201</td>\n",
       "      <td>30</td>\n",
       "      <td>0</td>\n",
       "    </tr>\n",
       "  </tbody>\n",
       "</table>\n",
       "</div>"
      ],
      "text/plain": [
       "   Pregnancies  Glucose  BloodPressure  ...  DiabetesPedigreeFunction  Age  Outcome\n",
       "0            1       85             66  ...                     0.351   31        0\n",
       "1            8      183             64  ...                     0.672   32        1\n",
       "2            1       89             66  ...                     0.167   21        0\n",
       "3            0      137             44  ...                     2.288   33        1\n",
       "4            5      116             74  ...                     0.201   30        0\n",
       "\n",
       "[5 rows x 8 columns]"
      ]
     },
     "execution_count": 20,
     "metadata": {
      "tags": []
     },
     "output_type": "execute_result"
    }
   ],
   "source": [
    "data.head() #Encoded values"
   ]
  },
  {
   "cell_type": "markdown",
   "metadata": {
    "colab_type": "text",
    "id": "YIMaPSxkAXPb"
   },
   "source": [
    "We can now see that **No** from 'Outcome' column has been replaced with **0** and **Yes** has been replaced with **1**"
   ]
  },
  {
   "cell_type": "markdown",
   "metadata": {
    "colab_type": "text",
    "id": "XDf86kSjfdKi"
   },
   "source": [
    "Let us split the data for training and testing.\n",
    "\n",
    "We are using **train_test_split** method from sklearn.model_selection, which shuffles and split the dataset into training and testing, where the first argument contains the independent features and the second argument contains the dependent feature(i.e. Outcome), the **test_size** is 20% of the original dataset and the **random_state** is being used by the random no. generator, which prevents shuffling of the instances each time we run the code."
   ]
  },
  {
   "cell_type": "code",
   "execution_count": null,
   "metadata": {
    "colab": {
     "base_uri": "https://localhost:8080/",
     "height": 187
    },
    "colab_type": "code",
    "id": "GJ0kJsgaeGYu",
    "outputId": "41e20afe-76be-457c-8c29-46f2fbc1a9d0"
   },
   "outputs": [
    {
     "name": "stdout",
     "output_type": "stream",
     "text": [
      "(613, 7)\n",
      "(154, 7)\n",
      "(613,)\n",
      "(154,)\n",
      "353    0\n",
      "236    1\n",
      "323    0\n",
      "98     1\n",
      "700    1\n",
      "Name: Outcome, dtype: int64\n"
     ]
    }
   ],
   "source": [
    "X_train,X_test,y_train,y_test=train_test_split(data.iloc[:,0:-1],data.iloc[:,-1],test_size=0.20,random_state=7)\n",
    "print(X_train.shape)\n",
    "print(X_test.shape)\n",
    "print(y_train.shape)\n",
    "print(y_test.shape)\n",
    "print(y_test[:5])"
   ]
  },
  {
   "cell_type": "markdown",
   "metadata": {
    "colab_type": "text",
    "id": "25VJN_Nkcyyv"
   },
   "source": [
    "#Creating the base model\n",
    "A base model is a very basic model which can be further used for comparision with other models. In this model we just use the preprocessed data without applying any feature engineering."
   ]
  },
  {
   "cell_type": "markdown",
   "metadata": {
    "colab_type": "text",
    "id": "zfa35eSlqEdP"
   },
   "source": [
    "Now we will use **cross validation** technique to check which model will work good on this problem. We are using several algorithm for comparision, (some of the algorithms will be discussed later). \n",
    "\n",
    "We have used K-Fold cross validation technique. Here Kfold is dividing the training data in 10(K) equal splits. Keeping 1 split for testing and rest for training, and it is done for 10 times with each split."
   ]
  },
  {
   "cell_type": "code",
   "execution_count": null,
   "metadata": {
    "colab": {
     "base_uri": "https://localhost:8080/",
     "height": 119
    },
    "colab_type": "code",
    "id": "D-TmFJbchTbr",
    "outputId": "3de4f20f-4866-4c35-ab43-79407d7f6e12"
   },
   "outputs": [
    {
     "name": "stdout",
     "output_type": "stream",
     "text": [
      "lr : acc: 0.7683236382866209(standard deviation: 0.07141711718880085)\n",
      "decision tree : acc: 0.6591750396615546(standard deviation: 0.03850054617975507)\n",
      "svm : acc: 0.6457694341618191(standard deviation: 0.06599166260861399)\n",
      "knn : acc: 0.732469592808038(standard deviation: 0.07294111567425018)\n",
      "naive bayes : acc: 0.7503701745108409(standard deviation: 0.06273923098301763)\n",
      "Random Forest : acc: 0.753648863035431(standard deviation: 0.05844534385113101)\n"
     ]
    }
   ],
   "source": [
    "models=[]\n",
    "models.append(('lr',LogisticRegression()))\n",
    "models.append(('decision tree',DecisionTreeClassifier()))\n",
    "models.append(('svm',SVC(gamma='auto')))\n",
    "models.append(('knn',KNeighborsClassifier()))\n",
    "models.append(('naive bayes',GaussianNB()))\n",
    "models.append(('Random Forest',RandomForestClassifier()))\n",
    "\n",
    "\n",
    "for name,model in models:\n",
    "  kfold=KFold(n_splits=10,random_state=7) \n",
    "  cross_val_sc=cross_val_score(model,X_train,y_train,scoring='accuracy',cv=kfold)\n",
    "  print('{} : acc: {}(standard deviation: {})'.format(name,cross_val_sc.mean(),cross_val_sc.std()))\n"
   ]
  },
  {
   "cell_type": "markdown",
   "metadata": {
    "colab_type": "text",
    "id": "l-iSQCjGcCTY"
   },
   "source": [
    "Here we can see logistic regression has quite good accuracy as compared to other models."
   ]
  },
  {
   "cell_type": "markdown",
   "metadata": {
    "colab_type": "text",
    "id": "KPTIaieMg-8D"
   },
   "source": [
    "#As the base model has been created. Let us try to improve our model.\n"
   ]
  },
  {
   "cell_type": "markdown",
   "metadata": {
    "colab_type": "text",
    "id": "lrXhRn_hQRXR"
   },
   "source": [
    "##**Re-analysing the prepared data for selecting important features**\n",
    "Let us **visualise the correlation**. Correlation lies between -1 to 1, where values near to 1 shows high positive correlation and values near -1 shows high negative correlation.\n",
    "Visualising the correlation helps us in selecting important features for prediction,as the feautures having low correlation with the dependent variable can be dropped as they are not effecting the predictions.\n",
    "\n",
    "This feature selection enhance our modelling, as training the model becomes faster since we have reduced the size of the data, and now our model are less prone to overfit."
   ]
  },
  {
   "cell_type": "code",
   "execution_count": null,
   "metadata": {
    "colab": {
     "base_uri": "https://localhost:8080/",
     "height": 297
    },
    "colab_type": "code",
    "id": "lpbu3qc-RBUA",
    "outputId": "7942ef29-7d33-438a-c340-8de32a9a8c9c"
   },
   "outputs": [
    {
     "data": {
      "text/html": [
       "<div>\n",
       "<style scoped>\n",
       "    .dataframe tbody tr th:only-of-type {\n",
       "        vertical-align: middle;\n",
       "    }\n",
       "\n",
       "    .dataframe tbody tr th {\n",
       "        vertical-align: top;\n",
       "    }\n",
       "\n",
       "    .dataframe thead th {\n",
       "        text-align: right;\n",
       "    }\n",
       "</style>\n",
       "<table border=\"1\" class=\"dataframe\">\n",
       "  <thead>\n",
       "    <tr style=\"text-align: right;\">\n",
       "      <th></th>\n",
       "      <th>Pregnancies</th>\n",
       "      <th>Glucose</th>\n",
       "      <th>BloodPressure</th>\n",
       "      <th>SkinThickness</th>\n",
       "      <th>BMI</th>\n",
       "      <th>DiabetesPedigreeFunction</th>\n",
       "      <th>Age</th>\n",
       "      <th>Outcome</th>\n",
       "    </tr>\n",
       "  </thead>\n",
       "  <tbody>\n",
       "    <tr>\n",
       "      <th>Pregnancies</th>\n",
       "      <td>1.000000</td>\n",
       "      <td>0.125937</td>\n",
       "      <td>0.211313</td>\n",
       "      <td>0.039694</td>\n",
       "      <td>0.025192</td>\n",
       "      <td>-0.034762</td>\n",
       "      <td>0.549266</td>\n",
       "      <td>0.218981</td>\n",
       "    </tr>\n",
       "    <tr>\n",
       "      <th>Glucose</th>\n",
       "      <td>0.125937</td>\n",
       "      <td>1.000000</td>\n",
       "      <td>0.219989</td>\n",
       "      <td>0.159246</td>\n",
       "      <td>0.233282</td>\n",
       "      <td>0.136884</td>\n",
       "      <td>0.267494</td>\n",
       "      <td>0.492079</td>\n",
       "    </tr>\n",
       "    <tr>\n",
       "      <th>BloodPressure</th>\n",
       "      <td>0.211313</td>\n",
       "      <td>0.219989</td>\n",
       "      <td>1.000000</td>\n",
       "      <td>0.161918</td>\n",
       "      <td>0.290596</td>\n",
       "      <td>0.001085</td>\n",
       "      <td>0.333838</td>\n",
       "      <td>0.170113</td>\n",
       "    </tr>\n",
       "    <tr>\n",
       "      <th>SkinThickness</th>\n",
       "      <td>0.039694</td>\n",
       "      <td>0.159246</td>\n",
       "      <td>0.161918</td>\n",
       "      <td>1.000000</td>\n",
       "      <td>0.561981</td>\n",
       "      <td>0.137595</td>\n",
       "      <td>0.042026</td>\n",
       "      <td>0.186819</td>\n",
       "    </tr>\n",
       "    <tr>\n",
       "      <th>BMI</th>\n",
       "      <td>0.025192</td>\n",
       "      <td>0.233282</td>\n",
       "      <td>0.290596</td>\n",
       "      <td>0.561981</td>\n",
       "      <td>1.000000</td>\n",
       "      <td>0.147735</td>\n",
       "      <td>0.033894</td>\n",
       "      <td>0.312978</td>\n",
       "    </tr>\n",
       "    <tr>\n",
       "      <th>DiabetesPedigreeFunction</th>\n",
       "      <td>-0.034762</td>\n",
       "      <td>0.136884</td>\n",
       "      <td>0.001085</td>\n",
       "      <td>0.137595</td>\n",
       "      <td>0.147735</td>\n",
       "      <td>1.000000</td>\n",
       "      <td>0.032789</td>\n",
       "      <td>0.173245</td>\n",
       "    </tr>\n",
       "    <tr>\n",
       "      <th>Age</th>\n",
       "      <td>0.549266</td>\n",
       "      <td>0.267494</td>\n",
       "      <td>0.333838</td>\n",
       "      <td>0.042026</td>\n",
       "      <td>0.033894</td>\n",
       "      <td>0.032789</td>\n",
       "      <td>1.000000</td>\n",
       "      <td>0.240264</td>\n",
       "    </tr>\n",
       "    <tr>\n",
       "      <th>Outcome</th>\n",
       "      <td>0.218981</td>\n",
       "      <td>0.492079</td>\n",
       "      <td>0.170113</td>\n",
       "      <td>0.186819</td>\n",
       "      <td>0.312978</td>\n",
       "      <td>0.173245</td>\n",
       "      <td>0.240264</td>\n",
       "      <td>1.000000</td>\n",
       "    </tr>\n",
       "  </tbody>\n",
       "</table>\n",
       "</div>"
      ],
      "text/plain": [
       "                          Pregnancies   Glucose  ...       Age   Outcome\n",
       "Pregnancies                  1.000000  0.125937  ...  0.549266  0.218981\n",
       "Glucose                      0.125937  1.000000  ...  0.267494  0.492079\n",
       "BloodPressure                0.211313  0.219989  ...  0.333838  0.170113\n",
       "SkinThickness                0.039694  0.159246  ...  0.042026  0.186819\n",
       "BMI                          0.025192  0.233282  ...  0.033894  0.312978\n",
       "DiabetesPedigreeFunction    -0.034762  0.136884  ...  0.032789  0.173245\n",
       "Age                          0.549266  0.267494  ...  1.000000  0.240264\n",
       "Outcome                      0.218981  0.492079  ...  0.240264  1.000000\n",
       "\n",
       "[8 rows x 8 columns]"
      ]
     },
     "execution_count": 23,
     "metadata": {
      "tags": []
     },
     "output_type": "execute_result"
    }
   ],
   "source": [
    "correlation = data.corr()\n",
    "correlation"
   ]
  },
  {
   "cell_type": "code",
   "execution_count": null,
   "metadata": {
    "colab": {
     "base_uri": "https://localhost:8080/",
     "height": 408
    },
    "colab_type": "code",
    "id": "4YqLOzXs12x3",
    "outputId": "98abe049-58d5-4e53-f75c-c96f5466aed6"
   },
   "outputs": [
    {
     "data": {
      "text/plain": [
       "<matplotlib.axes._subplots.AxesSubplot at 0x7f176d20e518>"
      ]
     },
     "execution_count": 24,
     "metadata": {
      "tags": []
     },
     "output_type": "execute_result"
    },
    {
     "data": {
      "image/png": "[encoded data removed]",
      "text/plain": [
       "<Figure size 432x288 with 2 Axes>"
      ]
     },
     "metadata": {
      "tags": []
     },
     "output_type": "display_data"
    }
   ],
   "source": [
    "sns.heatmap(correlation, annot = True)"
   ]
  },
  {
   "cell_type": "markdown",
   "metadata": {
    "colab_type": "text",
    "id": "8qrZd6tTbhWi"
   },
   "source": [
    "\n",
    "From the above heatmap we can easily tell that patients with high **Pregnancies, Glucose, BMI and Age** do have more chances of being diabetic, as they have high correlation with the target variable.\n",
    "\n",
    "Also, if 2 independent features show high correlation, we can just keep one of them as both are revealing same type of information, for ex, in the above heatmap we can see Age and Pregnancies are showing high correlation. So we can **just use the Age column and leave the Pregnancies column**.\n",
    "\n",
    "Now let us try to create a model using just these 3 features: **Glucose, BMI and Age**"
   ]
  },
  {
   "cell_type": "code",
   "execution_count": null,
   "metadata": {
    "colab": {},
    "colab_type": "code",
    "id": "Uc4TjsIfpSGM"
   },
   "outputs": [],
   "source": [
    "modified_X_train= X_train[['Glucose','BMI','Age']]\n",
    "modified_X_test= X_test[['Glucose','BMI','Age']]"
   ]
  },
  {
   "cell_type": "markdown",
   "metadata": {
    "colab_type": "text",
    "id": "MuAhU63CkguQ"
   },
   "source": [
    "We can also scale our features to normalise them in a certain range. We are using StandadScaler from sklearn.preprocessing. StandardScaler transforms all the features to have values with mean=0 and variance=1\n",
    "\n",
    "Generaly scaling improves our model's performance specially with linear models."
   ]
  },
  {
   "cell_type": "code",
   "execution_count": null,
   "metadata": {
    "colab": {},
    "colab_type": "code",
    "id": "8jahwXzup_mZ"
   },
   "outputs": [],
   "source": [
    "scaler = StandardScaler()\n",
    "scaler.fit(modified_X_train)\n",
    "scaled_X_train = scaler.transform(modified_X_train)\n",
    "scaler.fit(modified_X_test)\n",
    "scaled_X_test=scaler.transform(modified_X_test)"
   ]
  },
  {
   "cell_type": "markdown",
   "metadata": {
    "colab_type": "text",
    "id": "XvlSkCbYoPiW"
   },
   "source": [
    "##Selecting the model using cross validation"
   ]
  },
  {
   "cell_type": "code",
   "execution_count": null,
   "metadata": {
    "colab": {
     "base_uri": "https://localhost:8080/",
     "height": 119
    },
    "colab_type": "code",
    "id": "7UbDZtpQliFF",
    "outputId": "11c8b773-d238-47ca-e832-517b684de4fa"
   },
   "outputs": [
    {
     "name": "stdout",
     "output_type": "stream",
     "text": [
      "lr : accuracy:0.760074034902168( standard deviation:0.06953974499959363)\n",
      "decision tree : accuracy:0.675251189846642( standard deviation:0.05387860621232456)\n",
      "svm : accuracy:0.7650449497620307( standard deviation:0.062338431979468846)\n",
      "knn : accuracy:0.7029878371232152( standard deviation:0.0716984235327592)\n",
      "naive bayes : accuracy:0.7748281332628238( standard deviation:0.06268513430723137)\n",
      "Random Forest : accuracy:0.7177419354838709( standard deviation:0.0441977169962452)\n"
     ]
    }
   ],
   "source": [
    "models=[]\n",
    "models.append(('lr',LogisticRegression()))\n",
    "models.append(('decision tree',DecisionTreeClassifier()))\n",
    "models.append(('svm',SVC(gamma='auto')))\n",
    "models.append(('knn',KNeighborsClassifier()))\n",
    "models.append(('naive bayes',GaussianNB()))\n",
    "models.append(('Random Forest',RandomForestClassifier()))\n",
    "\n",
    "acc=[]\n",
    "nam=[]\n",
    "\n",
    "for name,model in models:\n",
    "  kfold=KFold(n_splits=10,random_state=7) \n",
    "  cross_val_sc=cross_val_score(model,scaled_X_train,y_train,scoring='accuracy',cv=kfold)\n",
    "  print('{} : accuracy:{}( standard deviation:{})'.format(name,cross_val_sc.mean(),cross_val_sc.std()))\n",
    "  acc.append(cross_val_sc.mean()*100)\n",
    "  nam.append(name)\n"
   ]
  },
  {
   "cell_type": "markdown",
   "metadata": {
    "colab_type": "text",
    "id": "okloDtxLtljO"
   },
   "source": [
    "Let us visualize the accuracy,\n",
    "We can easily see from the bar plot, logistic regression is giving us quite good accuracy."
   ]
  },
  {
   "cell_type": "code",
   "execution_count": null,
   "metadata": {
    "colab": {
     "base_uri": "https://localhost:8080/",
     "height": 266
    },
    "colab_type": "code",
    "id": "U_W1fDePpHjN",
    "outputId": "0d992df7-c33b-4422-da03-bbb75e8f3f3b"
   },
   "outputs": [
    {
     "data": {
      "image/png": "[encoded data removed]",
      "text/plain": [
       "<Figure size 432x288 with 1 Axes>"
      ]
     },
     "metadata": {
      "tags": []
     },
     "output_type": "display_data"
    }
   ],
   "source": [
    "height=np.arange(0,101,5)\n",
    "plt.bar(np.arange(len(nam)),acc,align='center',alpha=0.5)\n",
    "plt.xticks(np.arange(len(nam)),nam)\n",
    "plt.show()"
   ]
  },
  {
   "cell_type": "markdown",
   "metadata": {
    "colab_type": "text",
    "id": "GBhHCxjnyQMl"
   },
   "source": [
    "Now let us create the model using logistic regression. "
   ]
  },
  {
   "cell_type": "code",
   "execution_count": null,
   "metadata": {
    "colab": {},
    "colab_type": "code",
    "id": "7irDoQBkuCCb"
   },
   "outputs": [],
   "source": [
    "model= LogisticRegression()\n",
    "model.fit(scaled_X_train,y_train)\n",
    "y_pred=model.predict(scaled_X_test)"
   ]
  },
  {
   "cell_type": "markdown",
   "metadata": {
    "colab_type": "text",
    "id": "6EUs76WvfrTY"
   },
   "source": [
    "##**Model Performance**\n",
    "\n",
    "To check how the model is working on the test data, we will use confusion matrix."
   ]
  },
  {
   "cell_type": "code",
   "execution_count": null,
   "metadata": {
    "colab": {
     "base_uri": "https://localhost:8080/",
     "height": 51
    },
    "colab_type": "code",
    "id": "pBwtKhhmy1-j",
    "outputId": "aeb56ca0-ce9b-40fd-fd1d-165ce8232f8b"
   },
   "outputs": [
    {
     "name": "stdout",
     "output_type": "stream",
     "text": [
      "[[89 15]\n",
      " [22 28]]\n"
     ]
    }
   ],
   "source": [
    "print(confusion_matrix(y_test,y_pred))"
   ]
  },
  {
   "cell_type": "markdown",
   "metadata": {
    "colab_type": "text",
    "id": "lkJNoVjC17HI"
   },
   "source": [
    "Values in the confusion matrix denotes:\n",
    "\n",
    "* 89: **True Positive:** patients who were diabetic are predicted as diabetic\n",
    "\n",
    "* 15: **False positive:** patients who were not diabetic are predicted as diabetic\n",
    "\n",
    "* 22: **False negative:** patients who were diabetic are predicted as not diabetic\n",
    "\n",
    "* 28: **False positive:** patients who were not diabetic and also predicted as non-diabetic \n"
   ]
  },
  {
   "cell_type": "markdown",
   "metadata": {
    "colab_type": "text",
    "id": "Z8ptOuoQIS-U"
   },
   "source": [
    "##Further steps to improve your model\n",
    "\n",
    "You can use the following methods to improve your model. These will be taught in depth in later modules.\n",
    "* Add more data\n",
    "* Hyperparameter Tuning\n",
    "* Feature Engineering\n",
    "* Dimenstionality Reduction \n",
    "* Ensemble Method\n",
    "  * Boosting Algorithm\n",
    "  * Bagging Algorithm\n",
    "* Cross Validation Techniques\n"
   ]
  }
 ],
 "metadata": {
  "colab": {
   "collapsed_sections": [],
   "name": "Demo: Machine Learning Approach Step By Step: Diabetes Prediction.ipynb",
   "provenance": []
  },
  "kernelspec": {
   "display_name": "Python 3",
   "language": "python",
   "name": "python3"
  },
  "language_info": {
   "codemirror_mode": {
    "name": "ipython",
    "version": 3
   },
   "file_extension": ".py",
   "mimetype": "text/x-python",
   "name": "python",
   "nbconvert_exporter": "python",
   "pygments_lexer": "ipython3",
   "version": "3.7.6"
  }
 },
 "nbformat": 4,
 "nbformat_minor": 4
}
